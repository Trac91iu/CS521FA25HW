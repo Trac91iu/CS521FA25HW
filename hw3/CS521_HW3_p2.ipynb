{
  "cells": [
    {
      "cell_type": "markdown",
      "id": "bbe70a96",
      "metadata": {
        "id": "bbe70a96"
      },
      "source": [
        "## Interval Analysis"
      ]
    },
    {
      "cell_type": "code",
      "execution_count": 17,
      "id": "6bbda12e",
      "metadata": {
        "colab": {
          "base_uri": "https://localhost:8080/"
        },
        "id": "6bbda12e",
        "outputId": "7f604b6d-8394-48d1-9749-a6c7f5610c08"
      },
      "outputs": [
        {
          "output_type": "execute_result",
          "data": {
            "text/plain": [
              "Net(\n",
              "  (fc1): Linear(in_features=784, out_features=50, bias=True)\n",
              "  (fc2): Linear(in_features=50, out_features=50, bias=True)\n",
              "  (fc3): Linear(in_features=50, out_features=50, bias=True)\n",
              "  (final): Linear(in_features=50, out_features=10, bias=True)\n",
              ")"
            ]
          },
          "metadata": {},
          "execution_count": 17
        }
      ],
      "source": [
        "# !pip install tensorboardX\n",
        "\n",
        "import torch\n",
        "import torch.nn as nn\n",
        "import torch.optim as optim\n",
        "import torch.nn.functional as F\n",
        "import numpy as np\n",
        "import time\n",
        "import matplotlib.pyplot as plt\n",
        "\n",
        "from torchvision import datasets, transforms\n",
        "# from tensorboardX import SummaryWriter\n",
        "\n",
        "use_cuda = False\n",
        "device = torch.device(\"cuda\" if use_cuda else \"cpu\")\n",
        "batch_size = 64\n",
        "\n",
        "np.random.seed(42)\n",
        "torch.manual_seed(42)\n",
        "\n",
        "\n",
        "## Dataloaders\n",
        "train_dataset = datasets.MNIST('mnist_data/', train=True, download=True, transform=transforms.Compose(\n",
        "    [transforms.ToTensor()]\n",
        "))\n",
        "test_dataset = datasets.MNIST('mnist_data/', train=False, download=True, transform=transforms.Compose(\n",
        "    [transforms.ToTensor()]\n",
        "))\n",
        "\n",
        "train_loader = torch.utils.data.DataLoader(train_dataset, batch_size=batch_size, shuffle=True)\n",
        "test_loader = torch.utils.data.DataLoader(test_dataset, batch_size=batch_size, shuffle=False)\n",
        "\n",
        "class Net(nn.Sequential):\n",
        "    def __init__(self):\n",
        "        super(Net, self).__init__()\n",
        "        # Three layers\n",
        "        self.fc1 = nn.Linear(28*28, 50)\n",
        "        self.fc2 = nn.Linear(50, 50)\n",
        "        self.fc3 = nn.Linear(50, 50)\n",
        "        self.final = nn.Linear(50, 10)\n",
        "\n",
        "    def forward(self, x):\n",
        "        x = (x - 0.1307)/0.3081\n",
        "        x = x.view((-1, 28*28))\n",
        "        # Three ReLUs\n",
        "        x = F.relu(self.fc1(x))\n",
        "        x = F.relu(self.fc2(x))\n",
        "        x = F.relu(self.fc3(x))\n",
        "        x = self.final(x)\n",
        "        return x\n",
        "\n",
        "class Normalize(nn.Module):\n",
        "    def forward(self, x):\n",
        "        return (x - 0.1307)/0.3081\n",
        "\n",
        "#model = nn.Sequential(Normalize(), Net())\n",
        "model = Net()\n",
        "\n",
        "model = model.to(device)\n",
        "model.train()\n"
      ]
    },
    {
      "cell_type": "code",
      "source": [
        "def ibp_linear(lo, hi, W, b):\n",
        "    mu = (lo + hi) / 2.0\n",
        "    r  = (hi - lo) / 2.0\n",
        "    mu_next = mu @ W.t() + b\n",
        "    r_next  = r  @ W.abs().t()\n",
        "    return mu_next - r_next, mu_next + r_next\n",
        "\n",
        "def ibp_relu(lo, hi):\n",
        "    return F.relu(lo), F.relu(hi)\n",
        "\n",
        "def ibp_penultimate_bounds(model, x, eps):\n",
        "    # clamp to valid image range; model expects [0,1]\n",
        "    x = x.view(x.size(0), -1)\n",
        "    lo = torch.clamp(x - eps, 0.0, 1.0)\n",
        "    hi = torch.clamp(x + eps, 0.0, 1.0)\n",
        "\n",
        "    # normalize\n",
        "    lo = (lo - 0.1307)/0.3081\n",
        "    hi = (hi - 0.1307)/0.3081\n",
        "\n",
        "    lo, hi = ibp_linear(lo, hi, model.fc1.weight, model.fc1.bias); lo, hi = ibp_relu(lo, hi)\n",
        "    lo, hi = ibp_linear(lo, hi, model.fc2.weight, model.fc2.bias); lo, hi = ibp_relu(lo, hi)\n",
        "    lo, hi = ibp_linear(lo, hi, model.fc3.weight, model.fc3.bias); lo, hi = ibp_relu(lo, hi)\n",
        "    return lo, hi\n",
        "\n",
        "def robust_ce_upper_bound(model, x, y, eps):\n",
        "    lo, hi = ibp_penultimate_bounds(model, x, eps)\n",
        "    W = model.final.weight    # (10, 50)\n",
        "    b = model.final.bias      # (10,)\n",
        "    B = lo.size(0); C = W.size(0)\n",
        "    Wy = W[y]; by = b[y]\n",
        "    margins_ub = []\n",
        "    for j in range(C):\n",
        "        cj = W[j] - Wy\n",
        "        dj = b[j] - by\n",
        "        cj_pos = torch.clamp(cj, min=0.0)\n",
        "        cj_neg = torch.clamp(cj, max=0.0)\n",
        "        ub = (cj_pos * hi + cj_neg * lo).sum(dim=1) + dj\n",
        "        margins_ub.append(ub.unsqueeze(1))\n",
        "    margins_ub = torch.cat(margins_ub, dim=1)\n",
        "    margins_ub[torch.arange(B), y] = 0.0\n",
        "    return torch.logsumexp(margins_ub, dim=1).mean()\n",
        "\n",
        "@torch.no_grad()\n",
        "def certified_accuracy(model, eps):\n",
        "    robust, total = 0, 0\n",
        "    for images, labels in test_loader:\n",
        "        images, labels = images.to(device), labels.to(device)\n",
        "        lo, hi = ibp_penultimate_bounds(model, images, eps)\n",
        "        W, b = model.final.weight, model.final.bias\n",
        "        B = images.size(0)\n",
        "        Wy, by = W[labels], b[labels]\n",
        "        ok = torch.ones(B, dtype=torch.bool, device=images.device)\n",
        "        for j in range(W.size(0)):\n",
        "            cj = W[j] - Wy\n",
        "            dj = b[j] - by\n",
        "            cj_pos = torch.clamp(cj, min=0.0); cj_neg = torch.clamp(cj, max=0.0)\n",
        "            ub = (cj_pos * hi + cj_neg * lo).sum(dim=1) + dj\n",
        "            ok &= (ub < 0.0 + 1e-12)\n",
        "        robust += ok.sum().item(); total += B\n",
        "    return robust/total\n",
        "\n",
        "def pgd_linf_acc(model, eps, alpha=0.01, steps=40, restarts=1):\n",
        "    model.eval()\n",
        "    tot, corr = 0, 0\n",
        "    for images, labels in test_loader:\n",
        "        images, labels = images.to(device), labels.to(device)\n",
        "        if eps == 0:\n",
        "            pred = model(images).argmax(1)\n",
        "            corr += (pred==labels).sum().item(); tot += labels.numel(); continue\n",
        "        best = torch.zeros_like(labels, dtype=torch.bool)\n",
        "        for _ in range(restarts):\n",
        "            delta = torch.empty_like(images).uniform_(-eps, eps)\n",
        "            delta = (torch.clamp(images + delta, 0, 1) - images).detach().requires_grad_(True)\n",
        "            for _ in range(steps):\n",
        "                logits = model(torch.clamp(images + delta, 0, 1))\n",
        "                loss = F.cross_entropy(logits, labels, reduction='sum')\n",
        "                grad = torch.autograd.grad(loss, delta)[0]\n",
        "                delta = (delta + alpha * torch.sign(grad)).clamp(-eps, eps)\n",
        "                delta = (torch.clamp(images + delta, 0, 1) - images).detach().requires_grad_(True)\n",
        "            preds = model(torch.clamp(images + delta, 0, 1)).argmax(1)\n",
        "            best |= (preds == labels)\n",
        "        corr += best.sum().item(); tot += labels.numel()\n",
        "    return corr/tot\n"
      ],
      "metadata": {
        "id": "91jLeLuvjcHM"
      },
      "id": "91jLeLuvjcHM",
      "execution_count": 18,
      "outputs": []
    },
    {
      "cell_type": "code",
      "execution_count": 19,
      "id": "0a6282f7",
      "metadata": {
        "id": "0a6282f7"
      },
      "outputs": [],
      "source": [
        "def train_model_ibp(model, num_epochs, lr=0.001):\n",
        "    criterion = nn.CrossEntropyLoss()\n",
        "    optimizer = optim.SGD(model.parameters(), lr, momentum=0.9)\n",
        "\n",
        "    step = 0\n",
        "    total_steps = num_epochs * len(train_loader)\n",
        "    for epoch in range(num_epochs):\n",
        "        model.train()\n",
        "        running_loss = 0.0\n",
        "\n",
        "        for i, data in enumerate(train_loader, 0):\n",
        "            images, labels = data\n",
        "            images, labels = images.to(device), labels.to(device)\n",
        "\n",
        "            # calculate kappa and epsilon, kappa will gradually reduce to 0.5, eps will gradually increase to 0.1\n",
        "            kappa = 1.0 + (0.5 - 1.0) * (step / total_steps)\n",
        "            eps = 0.1 * (step / total_steps)\n",
        "\n",
        "            optimizer.zero_grad()\n",
        "            logits = model(images)\n",
        "            ce = F.cross_entropy(logits, labels)\n",
        "            rce = robust_ce_upper_bound(model, images, labels, eps)\n",
        "            loss = kappa * ce + (1.0 - kappa) * rce\n",
        "            loss.backward()\n",
        "            optimizer.step()\n",
        "            running_loss += loss.item()\n",
        "            step += 1\n",
        "\n",
        "        print(f'Epoch {epoch+1}/{num_epochs}, Loss: {running_loss/len(train_loader):.3f}, eps={eps:.3f}, kappa={kappa:.3f}')\n",
        "\n",
        "\n",
        "def train_model(model, num_epochs):\n",
        "    criterion = nn.CrossEntropyLoss()\n",
        "    optimizer = optim.SGD(model.parameters(), lr=0.001, momentum=0.9)\n",
        "\n",
        "    for epoch in range(num_epochs):\n",
        "        model.train()\n",
        "        running_loss = 0.0\n",
        "        for i, data in enumerate(train_loader, 0):\n",
        "            images, labels = data\n",
        "            images, labels = images.to(device), labels.to(device)\n",
        "\n",
        "            optimizer.zero_grad()\n",
        "            outputs = model(images)\n",
        "            loss = criterion(outputs, labels)\n",
        "            loss.backward()\n",
        "            optimizer.step()\n",
        "\n",
        "            running_loss += loss.item()\n",
        "\n",
        "        print(f'Epoch {epoch+1}/{num_epochs}, Loss: {running_loss/len(train_loader):.3f}')\n",
        "\n",
        "\n",
        "def test_model(model):\n",
        "    model.eval()\n",
        "    with torch.no_grad():\n",
        "        correct = 0\n",
        "        total = 0\n",
        "        for data in test_loader:\n",
        "            images, labels = data\n",
        "            images, labels = images.to(device), labels.to(device)\n",
        "            outputs = model(images)\n",
        "            _, predicted = torch.max(outputs.data, 1)\n",
        "            total += labels.size(0)\n",
        "            correct += (predicted == labels).sum().item()\n",
        "        print(f'Accuracy on images: {100 * correct / total}')"
      ]
    },
    {
      "cell_type": "code",
      "execution_count": 20,
      "id": "72dd8bd6",
      "metadata": {
        "colab": {
          "base_uri": "https://localhost:8080/"
        },
        "id": "72dd8bd6",
        "outputId": "b9f5ead7-e8b5-47a0-b9d1-cb34b07a5174"
      },
      "outputs": [
        {
          "output_type": "stream",
          "name": "stdout",
          "text": [
            "Epoch 1/10, Loss: 1.328\n",
            "Epoch 2/10, Loss: 0.379\n",
            "Epoch 3/10, Loss: 0.289\n",
            "Epoch 4/10, Loss: 0.237\n",
            "Epoch 5/10, Loss: 0.200\n",
            "Epoch 6/10, Loss: 0.175\n",
            "Epoch 7/10, Loss: 0.156\n",
            "Epoch 8/10, Loss: 0.142\n",
            "Epoch 9/10, Loss: 0.131\n",
            "Epoch 10/10, Loss: 0.120\n",
            "Training time: 95.09 seconds\n",
            "Accuracy on images: 96.14\n"
          ]
        }
      ],
      "source": [
        "tik = time.time()\n",
        "train_model(model, 10)\n",
        "tok = time.time()\n",
        "print(f\"Training time: {tok - tik:.2f} seconds\")\n",
        "test_model(model)"
      ]
    },
    {
      "cell_type": "code",
      "source": [
        "ibp_model = Net()\n",
        "ibp_model = ibp_model.to(device)\n",
        "ibp_model.train()\n",
        "\n",
        "tik = time.time()\n",
        "train_model_ibp(ibp_model, 10, lr=0.01)\n",
        "tok = time.time()\n",
        "print(f\"Training time: {tok - tik:.2f} seconds\")\n",
        "test_model(ibp_model)"
      ],
      "metadata": {
        "colab": {
          "base_uri": "https://localhost:8080/"
        },
        "id": "pEj90NYswxCX",
        "outputId": "432e7d21-c3e8-4fdb-d07c-d666a93e75c6"
      },
      "id": "pEj90NYswxCX",
      "execution_count": 15,
      "outputs": [
        {
          "output_type": "stream",
          "name": "stdout",
          "text": [
            "Epoch 1/10, Loss: 0.454, eps=0.010, kappa=0.950\n",
            "Epoch 2/10, Loss: 0.240, eps=0.020, kappa=0.900\n",
            "Epoch 3/10, Loss: 0.242, eps=0.030, kappa=0.850\n",
            "Epoch 4/10, Loss: 0.260, eps=0.040, kappa=0.800\n",
            "Epoch 5/10, Loss: 0.288, eps=0.050, kappa=0.750\n",
            "Epoch 6/10, Loss: 0.324, eps=0.060, kappa=0.700\n",
            "Epoch 7/10, Loss: 0.375, eps=0.070, kappa=0.650\n",
            "Epoch 8/10, Loss: 0.439, eps=0.080, kappa=0.600\n",
            "Epoch 9/10, Loss: 0.516, eps=0.090, kappa=0.550\n",
            "Epoch 10/10, Loss: 0.604, eps=0.100, kappa=0.500\n",
            "Training time: 157.40 seconds\n",
            "Accuracy on images: 94.11\n"
          ]
        }
      ]
    },
    {
      "cell_type": "code",
      "source": [
        "# Evaluate Standard Model\n",
        "print(\"=\" * 60)\n",
        "print(\"STANDARD MODEL EVALUATION\")\n",
        "print(\"=\" * 60)\n",
        "\n",
        "# Standard accuracy\n",
        "model.eval()\n",
        "standard_acc = pgd_linf_acc(model, eps=0.0)\n",
        "print(f\"Standard Accuracy: {standard_acc*100:.2f}%\")\n",
        "\n",
        "# PGD robust accuracy at different epsilons\n",
        "eps_values = [0.01, 0.05, 0.1]\n",
        "for eps in eps_values:\n",
        "    robust_acc = pgd_linf_acc(model, eps=eps, alpha=0.01, steps=40, restarts=1)\n",
        "    print(f\"PGD Robust Accuracy (ε={eps:.2f}): {robust_acc*100:.2f}%\")\n",
        "\n",
        "print(\"\\n\" + \"=\" * 60)\n",
        "print(\"IBP MODEL EVALUATION\")\n",
        "print(\"=\" * 60)\n",
        "\n",
        "# Standard accuracy\n",
        "ibp_model.eval()\n",
        "ibp_standard_acc = pgd_linf_acc(ibp_model, eps=0.0)\n",
        "print(f\"Standard Accuracy: {ibp_standard_acc*100:.2f}%\")\n",
        "\n",
        "# PGD robust accuracy at different epsilons\n",
        "for eps in eps_values:\n",
        "    ibp_robust_acc = pgd_linf_acc(ibp_model, eps=eps, alpha=0.01, steps=40, restarts=1)\n",
        "    print(f\"PGD Robust Accuracy (ε={eps:.2f}): {ibp_robust_acc*100:.2f}%\")\n",
        "\n",
        "print(\"\\n\" + \"=\" * 60)\n",
        "print(\"COMPARISON SUMMARY\")\n",
        "print(\"=\" * 60)\n",
        "print(f\"\\nClean Accuracy - Standard: {standard_acc*100:.2f}%\")\n",
        "print(f\"Clean Accuracy - IBP: {ibp_standard_acc*100:.2f}%\")\n",
        "print(f\"Clean Accuracy Drop: {(standard_acc - ibp_standard_acc)*100:.2f}%\")"
      ],
      "metadata": {
        "colab": {
          "base_uri": "https://localhost:8080/"
        },
        "id": "Rg54_duVIPiH",
        "outputId": "a769dccb-4566-4b60-b269-a47e0753f530"
      },
      "id": "Rg54_duVIPiH",
      "execution_count": 21,
      "outputs": [
        {
          "output_type": "stream",
          "name": "stdout",
          "text": [
            "============================================================\n",
            "STANDARD MODEL EVALUATION\n",
            "============================================================\n",
            "Standard Accuracy: 96.14%\n",
            "PGD Robust Accuracy (ε=0.01): 93.41%\n",
            "PGD Robust Accuracy (ε=0.05): 59.81%\n",
            "PGD Robust Accuracy (ε=0.10): 7.65%\n",
            "\n",
            "============================================================\n",
            "IBP MODEL EVALUATION\n",
            "============================================================\n",
            "Standard Accuracy: 94.11%\n",
            "PGD Robust Accuracy (ε=0.01): 93.28%\n",
            "PGD Robust Accuracy (ε=0.05): 89.32%\n",
            "PGD Robust Accuracy (ε=0.10): 81.16%\n",
            "\n",
            "============================================================\n",
            "COMPARISON SUMMARY\n",
            "============================================================\n",
            "\n",
            "Clean Accuracy - Standard: 96.14%\n",
            "Clean Accuracy - IBP: 94.11%\n",
            "Clean Accuracy Drop: 2.03%\n"
          ]
        }
      ]
    },
    {
      "cell_type": "markdown",
      "id": "c7c23f92",
      "metadata": {
        "id": "c7c23f92"
      },
      "source": [
        "### Write the interval analysis for the simple model"
      ]
    },
    {
      "cell_type": "code",
      "execution_count": 5,
      "id": "d97f7f25",
      "metadata": {
        "colab": {
          "base_uri": "https://localhost:8080/"
        },
        "id": "d97f7f25",
        "outputId": "581f3471-b016-4940-9c75-e330518c44a7"
      },
      "outputs": [
        {
          "output_type": "stream",
          "name": "stdout",
          "text": [
            "Collecting bound-propagation\n",
            "  Downloading bound_propagation-0.4.6-py3-none-any.whl.metadata (12 kB)\n",
            "Requirement already satisfied: torch in /usr/local/lib/python3.12/dist-packages (from bound-propagation) (2.8.0+cu126)\n",
            "Requirement already satisfied: numpy in /usr/local/lib/python3.12/dist-packages (from bound-propagation) (2.0.2)\n",
            "Requirement already satisfied: filelock in /usr/local/lib/python3.12/dist-packages (from torch->bound-propagation) (3.20.0)\n",
            "Requirement already satisfied: typing-extensions>=4.10.0 in /usr/local/lib/python3.12/dist-packages (from torch->bound-propagation) (4.15.0)\n",
            "Requirement already satisfied: setuptools in /usr/local/lib/python3.12/dist-packages (from torch->bound-propagation) (75.2.0)\n",
            "Requirement already satisfied: sympy>=1.13.3 in /usr/local/lib/python3.12/dist-packages (from torch->bound-propagation) (1.13.3)\n",
            "Requirement already satisfied: networkx in /usr/local/lib/python3.12/dist-packages (from torch->bound-propagation) (3.5)\n",
            "Requirement already satisfied: jinja2 in /usr/local/lib/python3.12/dist-packages (from torch->bound-propagation) (3.1.6)\n",
            "Requirement already satisfied: fsspec in /usr/local/lib/python3.12/dist-packages (from torch->bound-propagation) (2025.3.0)\n",
            "Requirement already satisfied: nvidia-cuda-nvrtc-cu12==12.6.77 in /usr/local/lib/python3.12/dist-packages (from torch->bound-propagation) (12.6.77)\n",
            "Requirement already satisfied: nvidia-cuda-runtime-cu12==12.6.77 in /usr/local/lib/python3.12/dist-packages (from torch->bound-propagation) (12.6.77)\n",
            "Requirement already satisfied: nvidia-cuda-cupti-cu12==12.6.80 in /usr/local/lib/python3.12/dist-packages (from torch->bound-propagation) (12.6.80)\n",
            "Requirement already satisfied: nvidia-cudnn-cu12==9.10.2.21 in /usr/local/lib/python3.12/dist-packages (from torch->bound-propagation) (9.10.2.21)\n",
            "Requirement already satisfied: nvidia-cublas-cu12==12.6.4.1 in /usr/local/lib/python3.12/dist-packages (from torch->bound-propagation) (12.6.4.1)\n",
            "Requirement already satisfied: nvidia-cufft-cu12==11.3.0.4 in /usr/local/lib/python3.12/dist-packages (from torch->bound-propagation) (11.3.0.4)\n",
            "Requirement already satisfied: nvidia-curand-cu12==10.3.7.77 in /usr/local/lib/python3.12/dist-packages (from torch->bound-propagation) (10.3.7.77)\n",
            "Requirement already satisfied: nvidia-cusolver-cu12==11.7.1.2 in /usr/local/lib/python3.12/dist-packages (from torch->bound-propagation) (11.7.1.2)\n",
            "Requirement already satisfied: nvidia-cusparse-cu12==12.5.4.2 in /usr/local/lib/python3.12/dist-packages (from torch->bound-propagation) (12.5.4.2)\n",
            "Requirement already satisfied: nvidia-cusparselt-cu12==0.7.1 in /usr/local/lib/python3.12/dist-packages (from torch->bound-propagation) (0.7.1)\n",
            "Requirement already satisfied: nvidia-nccl-cu12==2.27.3 in /usr/local/lib/python3.12/dist-packages (from torch->bound-propagation) (2.27.3)\n",
            "Requirement already satisfied: nvidia-nvtx-cu12==12.6.77 in /usr/local/lib/python3.12/dist-packages (from torch->bound-propagation) (12.6.77)\n",
            "Requirement already satisfied: nvidia-nvjitlink-cu12==12.6.85 in /usr/local/lib/python3.12/dist-packages (from torch->bound-propagation) (12.6.85)\n",
            "Requirement already satisfied: nvidia-cufile-cu12==1.11.1.6 in /usr/local/lib/python3.12/dist-packages (from torch->bound-propagation) (1.11.1.6)\n",
            "Requirement already satisfied: triton==3.4.0 in /usr/local/lib/python3.12/dist-packages (from torch->bound-propagation) (3.4.0)\n",
            "Requirement already satisfied: mpmath<1.4,>=1.1.0 in /usr/local/lib/python3.12/dist-packages (from sympy>=1.13.3->torch->bound-propagation) (1.3.0)\n",
            "Requirement already satisfied: MarkupSafe>=2.0 in /usr/local/lib/python3.12/dist-packages (from jinja2->torch->bound-propagation) (3.0.3)\n",
            "Downloading bound_propagation-0.4.6-py3-none-any.whl (46 kB)\n",
            "\u001b[?25l   \u001b[90m━━━━━━━━━━━━━━━━━━━━━━━━━━━━━━━━━━━━━━━━\u001b[0m \u001b[32m0.0/46.7 kB\u001b[0m \u001b[31m?\u001b[0m eta \u001b[36m-:--:--\u001b[0m\r\u001b[2K   \u001b[90m━━━━━━━━━━━━━━━━━━━━━━━━━━━━━━━━━━━━━━━━\u001b[0m \u001b[32m46.7/46.7 kB\u001b[0m \u001b[31m2.1 MB/s\u001b[0m eta \u001b[36m0:00:00\u001b[0m\n",
            "\u001b[?25hInstalling collected packages: bound-propagation\n",
            "Successfully installed bound-propagation-0.4.6\n"
          ]
        }
      ],
      "source": [
        "!pip install bound-propagation"
      ]
    },
    {
      "cell_type": "code",
      "source": [
        "from bound_propagation import BoundModelFactory, HyperRectangle\n",
        "\n",
        "def to_seq(net, mean=0.1307, std=0.3081):\n",
        "    with torch.no_grad():\n",
        "        W1 = net.fc1.weight.clone()\n",
        "        b1 = net.fc1.bias.clone()\n",
        "        W1p = W1 / std\n",
        "        b1p = b1 - (mean/std) * W1.sum(dim=1)\n",
        "\n",
        "        seq = nn.Sequential(\n",
        "            nn.Linear(28*28, 50), nn.ReLU(),\n",
        "            nn.Linear(50, 50),    nn.ReLU(),\n",
        "            nn.Linear(50, 50),    nn.ReLU(),\n",
        "            nn.Linear(50, 10),\n",
        "        )\n",
        "        seq[0].weight.copy_(W1p); seq[0].bias.copy_(b1p)\n",
        "        seq[2].weight.copy_(net.fc2.weight); seq[2].bias.copy_(net.fc2.bias)\n",
        "        seq[4].weight.copy_(net.fc3.weight); seq[4].bias.copy_(net.fc3.bias)\n",
        "        seq[6].weight.copy_(net.final.weight); seq[6].bias.copy_(net.final.bias)\n",
        "        return seq.eval()\n",
        "\n",
        "@torch.no_grad()\n",
        "def verify(bounded_net, images, labels, epsilon):\n",
        "    verified, total = 0, 0\n",
        "    for i in range(len(images)):\n",
        "        x = images[i:i+1].view(1, -1)\n",
        "        lower = torch.clamp(x - epsilon, 0, 1)\n",
        "        upper = torch.clamp(x + epsilon, 0, 1)\n",
        "\n",
        "        input_bounds = HyperRectangle(lower, upper)\n",
        "        output_bounds = bounded_net.ibp(input_bounds)\n",
        "\n",
        "        label = labels[i].item()\n",
        "        true_lower = output_bounds.lower[0, label]\n",
        "        is_robust = True\n",
        "        for j in range(10):\n",
        "            if j != label and true_lower <= output_bounds.upper[0, j]:\n",
        "                is_robust = False\n",
        "                break\n",
        "        if is_robust:\n",
        "            verified += 1\n",
        "        total += 1\n",
        "\n",
        "    return 100.0 * verified / total"
      ],
      "metadata": {
        "id": "0MsI9nwZ6N0m"
      },
      "id": "0MsI9nwZ6N0m",
      "execution_count": 22,
      "outputs": []
    },
    {
      "cell_type": "code",
      "source": [
        "seq = to_seq(model.eval())\n",
        "factory = BoundModelFactory()\n",
        "bounded_net = factory.build(seq)\n",
        "\n",
        "eps_range = np.linspace(0.01, 0.1, 10)\n",
        "\n",
        "for epsilon in eps_range:\n",
        "    images, labels = next(iter(test_loader))\n",
        "    accuracy = verify(bounded_net, images, labels, epsilon)\n",
        "    print(f\"ε = {epsilon:.3f}: {accuracy:.1f}% verified\")"
      ],
      "metadata": {
        "colab": {
          "base_uri": "https://localhost:8080/"
        },
        "id": "Iav2MZf6i9EN",
        "outputId": "0237146b-969d-4fe4-cc7d-9ee0316602d1"
      },
      "id": "Iav2MZf6i9EN",
      "execution_count": 23,
      "outputs": [
        {
          "output_type": "stream",
          "name": "stdout",
          "text": [
            "ε = 0.010: 0.0% verified\n",
            "ε = 0.020: 0.0% verified\n",
            "ε = 0.030: 0.0% verified\n",
            "ε = 0.040: 0.0% verified\n",
            "ε = 0.050: 0.0% verified\n",
            "ε = 0.060: 0.0% verified\n",
            "ε = 0.070: 0.0% verified\n",
            "ε = 0.080: 0.0% verified\n",
            "ε = 0.090: 0.0% verified\n",
            "ε = 0.100: 0.0% verified\n"
          ]
        }
      ]
    },
    {
      "cell_type": "code",
      "source": [
        "ibp_seq = to_seq(ibp_model.eval())\n",
        "factory = BoundModelFactory()\n",
        "ibp_bounded_net = factory.build(ibp_seq)\n",
        "\n",
        "eps_range = np.linspace(0.01, 0.1, 10)\n",
        "\n",
        "for epsilon in eps_range:\n",
        "    images, labels = next(iter(test_loader))\n",
        "    accuracy = verify(ibp_bounded_net, images, labels, epsilon)\n",
        "    print(f\"ε = {epsilon:.3f}: {accuracy:.1f}% verified\")"
      ],
      "metadata": {
        "colab": {
          "base_uri": "https://localhost:8080/"
        },
        "id": "NgQkHMzq6SZD",
        "outputId": "ddf2e92e-1f20-4f2b-c523-6262ef065438"
      },
      "id": "NgQkHMzq6SZD",
      "execution_count": 26,
      "outputs": [
        {
          "output_type": "stream",
          "name": "stdout",
          "text": [
            "ε = 0.010: 95.3% verified\n",
            "ε = 0.020: 95.3% verified\n",
            "ε = 0.030: 89.1% verified\n",
            "ε = 0.040: 82.8% verified\n",
            "ε = 0.050: 71.9% verified\n",
            "ε = 0.060: 64.1% verified\n",
            "ε = 0.070: 46.9% verified\n",
            "ε = 0.080: 35.9% verified\n",
            "ε = 0.090: 28.1% verified\n",
            "ε = 0.100: 18.8% verified\n"
          ]
        }
      ]
    },
    {
      "cell_type": "code",
      "source": [
        "def analyze_sample(model, bounded_net, images, labels, epsilon, device):\n",
        "    model.eval()\n",
        "    for i in range(len(images)):\n",
        "        x = images[i:i+1].view(1, -1)\n",
        "        lo = torch.clamp(x - epsilon, 0, 1)\n",
        "        hi = torch.clamp(x + epsilon, 0, 1)\n",
        "\n",
        "        b = bounded_net.ibp(HyperRectangle(lo, hi))\n",
        "\n",
        "        y = labels[i].item()\n",
        "        tl = b.lower[0, y]\n",
        "        ou = b.upper[0].clone(); ou[y] = float('-inf')\n",
        "\n",
        "        if not (tl > ou.max()):\n",
        "            lower_vec = b.lower[0].detach().cpu()\n",
        "            upper_vec = b.upper[0].detach().cpu()\n",
        "            x0 = images[i:i+1].cpu()\n",
        "            y0 = labels[i:i+1].cpu()\n",
        "\n",
        "            lc = model(x0.to(device)).detach().cpu().squeeze(0)\n",
        "            delta = torch.empty_like(x0).uniform_(-epsilon, epsilon)\n",
        "            delta = (torch.clamp(x0 + delta, 0, 1) - x0).detach().requires_grad_(True)\n",
        "\n",
        "            for _ in range(40):\n",
        "                logits = model(torch.clamp(x0.to(device) + delta.to(device), 0, 1))\n",
        "                loss = F.cross_entropy(logits, y0.to(device), reduction='sum')\n",
        "                g = torch.autograd.grad(loss, delta)[0]\n",
        "                delta.data = (delta + 0.01 * torch.sign(g)).clamp(-epsilon, epsilon)\n",
        "                delta.data = (torch.clamp(x0 + delta.data, 0, 1) - x0).data\n",
        "                delta.grad = None\n",
        "\n",
        "            x_adv = torch.clamp(x0 + delta.detach().cpu(), 0, 1)\n",
        "            la = model(x_adv.to(device)).detach().cpu().squeeze(0)\n",
        "            order = torch.argsort(upper_vec, descending=True).tolist()\n",
        "\n",
        "            fig, axs = plt.subplots(1,3,figsize=(9,3))\n",
        "            axs[0].imshow(x0[0,0], cmap='gray')\n",
        "            axs[0].axis('off')\n",
        "\n",
        "            axs[1].imshow(x_adv[0,0], cmap='gray')\n",
        "            axs[1].axis('off')\n",
        "\n",
        "            axs[2].imshow((x_adv - x0)[0,0], cmap='seismic')\n",
        "            axs[2].axis('off')\n",
        "\n",
        "            plt.tight_layout(); plt.show()\n",
        "\n",
        "            return {\n",
        "                \"index\": i,\n",
        "                \"true_label\": y,\n",
        "                \"bounds_lower\": lower_vec,\n",
        "                \"bounds_upper\": upper_vec,\n",
        "                \"clean_logits\": lc,\n",
        "                \"adv_logits\": la,\n",
        "                \"order_by_upper\": order,\n",
        "                \"x_clean\": x0,\n",
        "                \"x_adv\": x_adv,\n",
        "            }\n",
        "    return None\n"
      ],
      "metadata": {
        "id": "vdnA7ogrDq3e"
      },
      "id": "vdnA7ogrDq3e",
      "execution_count": 24,
      "outputs": []
    },
    {
      "cell_type": "code",
      "source": [
        "eps_range = np.linspace(0.01, 0.1, 10)\n",
        "\n",
        "for epsilon in eps_range:\n",
        "    images, labels = next(iter(test_loader))\n",
        "    result = analyze_sample(ibp_model, ibp_bounded_net, images, labels, epsilon, device)\n",
        "\n",
        "    y = int(result[\"true_label\"])\n",
        "    lower = result[\"bounds_lower\"].detach().cpu().numpy()\n",
        "    upper = result[\"bounds_upper\"].detach().cpu().numpy()\n",
        "    tl = float(lower[y])\n",
        "\n",
        "    order = upper.argsort()[::-1]\n",
        "    other_upper_max = float(upper[[c for c in range(10) if c != y]].max())\n",
        "    certified = tl > other_upper_max\n",
        "\n",
        "    print(f\"\\nEpsilon = {epsilon:.3f}\")\n",
        "    print(f\"\\nIndex: {result['index']} | True label: {y}\")\n",
        "    print(f\"True lower (TL) = {tl:.4f} | max other UPPER = {other_upper_max:.4f} | certified = {certified}\")\n",
        "    print(\"\\nclass |     LOWER       UPPER    note\")\n",
        "    print(\"----- | ----------  ----------  -----------\")\n",
        "    for c in order:\n",
        "        note = []\n",
        "        if c == y:\n",
        "            note.append(\"TRUE (TL)\")\n",
        "        if c != y and upper[c] >= tl:\n",
        "            note.append(\"violates\")\n",
        "        tag = \" ; \".join(note)\n",
        "        print(f\"{c:>5} | {lower[c]:>10.4f}  {upper[c]:>10.4f}  {tag}\")\n"
      ],
      "metadata": {
        "colab": {
          "base_uri": "https://localhost:8080/",
          "height": 1000
        },
        "id": "A22zTB84OiEC",
        "outputId": "a12dcab3-98e7-4f31-afd7-4b7bfe7eb28b"
      },
      "id": "A22zTB84OiEC",
      "execution_count": 28,
      "outputs": [
        {
          "output_type": "display_data",
          "data": {
            "text/plain": [
              "<Figure size 900x300 with 3 Axes>"
            ],
            "image/png": "[encoded data removed]"
          },
          "metadata": {}
        },
        {
          "output_type": "stream",
          "name": "stdout",
          "text": [
            "\n",
            "Epsilon = 0.010\n",
            "\n",
            "Index: 8 | True label: 5\n",
            "True lower (TL) = 3.5924 | max other UPPER = 4.8404 | certified = False\n",
            "\n",
            "class |     LOWER       UPPER    note\n",
            "----- | ----------  ----------  -----------\n",
            "    6 |     4.2482      4.8404  violates\n",
            "    5 |     3.5924      4.4764  TRUE (TL)\n",
            "    8 |     1.4721      1.7739  \n",
            "    2 |    -0.4960      0.0931  \n",
            "    0 |    -0.4249      0.0119  \n",
            "    4 |    -0.5667     -0.0130  \n",
            "    9 |    -1.9556     -1.0583  \n",
            "    1 |    -1.9160     -1.4773  \n",
            "    3 |    -2.6573     -2.1373  \n",
            "    7 |    -5.2519     -4.8077  \n"
          ]
        },
        {
          "output_type": "display_data",
          "data": {
            "text/plain": [
              "<Figure size 900x300 with 3 Axes>"
            ],
            "image/png": "[encoded data removed]"
          },
          "metadata": {}
        },
        {
          "output_type": "stream",
          "name": "stdout",
          "text": [
            "\n",
            "Epsilon = 0.020\n",
            "\n",
            "Index: 8 | True label: 5\n",
            "True lower (TL) = 3.1416 | max other UPPER = 5.0943 | certified = False\n",
            "\n",
            "class |     LOWER       UPPER    note\n",
            "----- | ----------  ----------  -----------\n",
            "    6 |     3.9813      5.0943  violates\n",
            "    5 |     3.1416      4.7993  TRUE (TL)\n",
            "    8 |     1.3895      1.9423  \n",
            "    2 |    -0.7006      0.4083  \n",
            "    4 |    -0.8438      0.1684  \n",
            "    0 |    -0.6527      0.1470  \n",
            "    9 |    -2.2923     -0.7579  \n",
            "    1 |    -2.0347     -1.2273  \n",
            "    3 |    -2.8017     -1.8284  \n",
            "    7 |    -5.3920     -4.5488  \n"
          ]
        },
        {
          "output_type": "display_data",
          "data": {
            "text/plain": [
              "<Figure size 900x300 with 3 Axes>"
            ],
            "image/png": "[encoded data removed]"
          },
          "metadata": {}
        },
        {
          "output_type": "stream",
          "name": "stdout",
          "text": [
            "\n",
            "Epsilon = 0.030\n",
            "\n",
            "Index: 7 | True label: 9\n",
            "True lower (TL) = 4.4701 | max other UPPER = 4.8704 | certified = False\n",
            "\n",
            "class |     LOWER       UPPER    note\n",
            "----- | ----------  ----------  -----------\n",
            "    9 |     4.4701      5.8620  TRUE (TL)\n",
            "    4 |     3.0521      4.8704  violates\n",
            "    7 |     0.8306      2.3257  \n",
            "    5 |     0.8941      1.7820  \n",
            "    3 |     0.2504      1.2223  \n",
            "    1 |    -1.1497      0.0982  \n",
            "    8 |    -1.7689     -0.6444  \n",
            "    2 |    -2.7346     -1.7426  \n",
            "    0 |    -4.6715     -3.4123  \n",
            "    6 |    -5.2760     -3.5675  \n"
          ]
        },
        {
          "output_type": "display_data",
          "data": {
            "text/plain": [
              "<Figure size 900x300 with 3 Axes>"
            ],
            "image/png": "[encoded data removed]"
          },
          "metadata": {}
        },
        {
          "output_type": "stream",
          "name": "stdout",
          "text": [
            "\n",
            "Epsilon = 0.040\n",
            "\n",
            "Index: 7 | True label: 9\n",
            "True lower (TL) = 4.1838 | max other UPPER = 5.1384 | certified = False\n",
            "\n",
            "class |     LOWER       UPPER    note\n",
            "----- | ----------  ----------  -----------\n",
            "    9 |     4.1838      6.0327  TRUE (TL)\n",
            "    4 |     2.7199      5.1384  violates\n",
            "    7 |     0.5424      2.5249  \n",
            "    5 |     0.7056      1.8878  \n",
            "    3 |     0.0566      1.3388  \n",
            "    1 |    -1.3776      0.2699  \n",
            "    8 |    -1.9065     -0.4052  \n",
            "    2 |    -2.8529     -1.5468  \n",
            "    0 |    -4.8093     -3.1457  \n",
            "    6 |    -5.4471     -3.1821  \n"
          ]
        },
        {
          "output_type": "display_data",
          "data": {
            "text/plain": [
              "<Figure size 900x300 with 3 Axes>"
            ],
            "image/png": "[encoded data removed]"
          },
          "metadata": {}
        },
        {
          "output_type": "stream",
          "name": "stdout",
          "text": [
            "\n",
            "Epsilon = 0.050\n",
            "\n",
            "Index: 6 | True label: 4\n",
            "True lower (TL) = 4.2787 | max other UPPER = 4.7731 | certified = False\n",
            "\n",
            "class |     LOWER       UPPER    note\n",
            "----- | ----------  ----------  -----------\n",
            "    4 |     4.2787      8.2749  TRUE (TL)\n",
            "    9 |    -0.1494      4.7731  violates\n",
            "    7 |    -0.4432      3.0627  \n",
            "    5 |    -0.1252      1.7358  \n",
            "    3 |    -0.5667      1.3203  \n",
            "    1 |    -1.1031      1.2872  \n",
            "    6 |    -4.3005     -0.5375  \n",
            "    8 |    -3.2858     -0.7861  \n",
            "    2 |    -3.3424     -1.4870  \n",
            "    0 |    -5.7569     -3.1637  \n"
          ]
        },
        {
          "output_type": "display_data",
          "data": {
            "text/plain": [
              "<Figure size 900x300 with 3 Axes>"
            ],
            "image/png": "[encoded data removed]"
          },
          "metadata": {}
        },
        {
          "output_type": "stream",
          "name": "stdout",
          "text": [
            "\n",
            "Epsilon = 0.060\n",
            "\n",
            "Index: 6 | True label: 4\n",
            "True lower (TL) = 3.8289 | max other UPPER = 5.0831 | certified = False\n",
            "\n",
            "class |     LOWER       UPPER    note\n",
            "----- | ----------  ----------  -----------\n",
            "    4 |     3.8289      8.4379  TRUE (TL)\n",
            "    9 |    -0.5942      5.0831  violates\n",
            "    7 |    -0.8274      3.2216  \n",
            "    5 |    -0.2702      1.8927  \n",
            "    3 |    -0.7097      1.4775  \n",
            "    1 |    -1.2956      1.4668  \n",
            "    6 |    -4.5076     -0.1412  \n",
            "    8 |    -3.3963     -0.4895  \n",
            "    2 |    -3.4581     -1.3039  \n",
            "    0 |    -5.8784     -2.8634  \n"
          ]
        },
        {
          "output_type": "display_data",
          "data": {
            "text/plain": [
              "<Figure size 900x300 with 3 Axes>"
            ],
            "image/png": "[encoded data removed]"
          },
          "metadata": {}
        },
        {
          "output_type": "stream",
          "name": "stdout",
          "text": [
            "\n",
            "Epsilon = 0.070\n",
            "\n",
            "Index: 1 | True label: 2\n",
            "True lower (TL) = 3.9342 | max other UPPER = 4.2373 | certified = False\n",
            "\n",
            "class |     LOWER       UPPER    note\n",
            "----- | ----------  ----------  -----------\n",
            "    2 |     3.9342      8.2891  TRUE (TL)\n",
            "    0 |    -0.8814      4.2373  violates\n",
            "    6 |    -0.5033      3.9943  violates\n",
            "    8 |     0.2376      2.9854  \n",
            "    3 |    -1.3783      2.7041  \n",
            "    1 |    -3.2688      0.2203  \n",
            "    5 |    -2.2618     -0.1315  \n",
            "    7 |    -4.0161     -0.7168  \n",
            "    9 |    -5.2726     -1.8328  \n",
            "    4 |    -5.2230     -1.8496  \n"
          ]
        },
        {
          "output_type": "display_data",
          "data": {
            "text/plain": [
              "<Figure size 900x300 with 3 Axes>"
            ],
            "image/png": "[encoded data removed]"
          },
          "metadata": {}
        },
        {
          "output_type": "stream",
          "name": "stdout",
          "text": [
            "\n",
            "Epsilon = 0.080\n",
            "\n",
            "Index: 1 | True label: 2\n",
            "True lower (TL) = 3.6337 | max other UPPER = 4.5115 | certified = False\n",
            "\n",
            "class |     LOWER       UPPER    note\n",
            "----- | ----------  ----------  -----------\n",
            "    2 |     3.6337      8.5649  TRUE (TL)\n",
            "    0 |    -1.1691      4.5115  violates\n",
            "    6 |    -0.8248      4.2556  violates\n",
            "    8 |     0.1048      3.1800  \n",
            "    3 |    -1.5835      3.0373  \n",
            "    1 |    -3.4736      0.4468  \n",
            "    5 |    -2.3268      0.0819  \n",
            "    7 |    -4.1463     -0.4228  \n",
            "    9 |    -5.5895     -1.6593  \n",
            "    4 |    -5.5326     -1.7114  \n"
          ]
        },
        {
          "output_type": "display_data",
          "data": {
            "text/plain": [
              "<Figure size 900x300 with 3 Axes>"
            ],
            "image/png": "[encoded data removed]"
          },
          "metadata": {}
        },
        {
          "output_type": "stream",
          "name": "stdout",
          "text": [
            "\n",
            "Epsilon = 0.090\n",
            "\n",
            "Index: 0 | True label: 7\n",
            "True lower (TL) = 7.4170 | max other UPPER = 7.6095 | certified = False\n",
            "\n",
            "class |     LOWER       UPPER    note\n",
            "----- | ----------  ----------  -----------\n",
            "    7 |     7.4170     17.9590  TRUE (TL)\n",
            "    3 |     0.8666      7.6095  violates\n",
            "    2 |     0.3369      7.2943  \n",
            "    9 |    -1.7594      6.3984  \n",
            "    1 |    -3.1188      6.3036  \n",
            "    5 |    -2.2705      1.7828  \n",
            "    4 |    -8.2633      1.6148  \n",
            "    8 |    -4.4924      0.8230  \n",
            "    0 |    -9.6807     -0.8944  \n",
            "    6 |   -17.0302     -6.8253  \n"
          ]
        },
        {
          "output_type": "display_data",
          "data": {
            "text/plain": [
              "<Figure size 900x300 with 3 Axes>"
            ],
            "image/png": "[encoded data removed]"
          },
          "metadata": {}
        },
        {
          "output_type": "stream",
          "name": "stdout",
          "text": [
            "\n",
            "Epsilon = 0.100\n",
            "\n",
            "Index: 0 | True label: 7\n",
            "True lower (TL) = 6.6715 | max other UPPER = 7.8895 | certified = False\n",
            "\n",
            "class |     LOWER       UPPER    note\n",
            "----- | ----------  ----------  -----------\n",
            "    7 |     6.6715     18.3984  TRUE (TL)\n",
            "    3 |     0.3636      7.8895  violates\n",
            "    2 |    -0.1341      7.6187  violates\n",
            "    9 |    -2.2299      6.8620  violates\n",
            "    1 |    -3.8539      6.7292  violates\n",
            "    4 |    -8.7706      2.2392  \n",
            "    5 |    -2.5354      1.9973  \n",
            "    8 |    -4.8774      1.1571  \n",
            "    0 |   -10.0094      0.1219  \n",
            "    6 |   -17.4396     -6.0794  \n"
          ]
        }
      ]
    },
    {
      "cell_type": "code",
      "source": [],
      "metadata": {
        "id": "yvZBZLJhjmSO"
      },
      "id": "yvZBZLJhjmSO",
      "execution_count": null,
      "outputs": []
    }
  ],
  "metadata": {
    "kernelspec": {
      "display_name": "cs521",
      "language": "python",
      "name": "python3"
    },
    "language_info": {
      "codemirror_mode": {
        "name": "ipython",
        "version": 3
      },
      "file_extension": ".py",
      "mimetype": "text/x-python",
      "name": "python",
      "nbconvert_exporter": "python",
      "pygments_lexer": "ipython3",
      "version": "3.10.18"
    },
    "colab": {
      "provenance": []
    }
  },
  "nbformat": 4,
  "nbformat_minor": 5
}